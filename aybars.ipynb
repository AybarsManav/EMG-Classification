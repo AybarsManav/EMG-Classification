{
 "cells": [
  {
   "cell_type": "code",
   "execution_count": 1,
   "metadata": {},
   "outputs": [],
   "source": [
    "import sklearn\n",
    "import numpy as np\n",
    "import matplotlib.pyplot as plt\n",
    "import pandas as pd\n",
    "import os\n",
    "\n",
    "from sklearn.preprocessing import StandardScaler\n",
    "from sklearn.model_selection import train_test_split\n",
    "from sklearn.linear_model import LogisticRegression\n",
    "from sklearn.metrics import accuracy_score, confusion_matrix, classification_report\n",
    "\n",
    "from data_preprocess import data_preprocess\n",
    "from feature_extractor import FeatureExtractor"
   ]
  },
  {
   "cell_type": "code",
   "execution_count": 2,
   "metadata": {},
   "outputs": [],
   "source": [
    "# Load and preprocess data\n",
    "data_path = 'Project_Data_EE4C12_S&S_EMG.csv'\n",
    "gesture_windows = data_preprocess(data_path)"
   ]
  },
  {
   "cell_type": "code",
   "execution_count": 3,
   "metadata": {},
   "outputs": [],
   "source": [
    "# Extract features for each gesture\n",
    "feature_extractor = FeatureExtractor()\n",
    "features = feature_extractor.extract_features(gesture_windows)"
   ]
  },
  {
   "cell_type": "code",
   "execution_count": 26,
   "metadata": {},
   "outputs": [
    {
     "name": "stdout",
     "output_type": "stream",
     "text": [
      "X_train shape: (1618, 120)\n",
      "X_test shape: (180, 120)\n",
      "y_train shape: (1618,)\n",
      "y_test shape: (180,)\n"
     ]
    }
   ],
   "source": [
    "# Create train-test split\n",
    "X_train, X_test, y_train, y_test = train_test_split(features.drop(columns=['gesture']), features['gesture'], test_size=0.1, random_state=42)\n",
    "\n",
    "# Display the shapes of the resulting datasets\n",
    "print(f\"X_train shape: {X_train.shape}\")\n",
    "print(f\"X_test shape: {X_test.shape}\")\n",
    "print(f\"y_train shape: {y_train.shape}\")\n",
    "print(f\"y_test shape: {y_test.shape}\")\n",
    "# Reset indices of the resulting datasets\n",
    "X_train.reset_index(drop=True, inplace=True)\n",
    "X_test.reset_index(drop=True, inplace=True)\n",
    "y_train.reset_index(drop=True, inplace=True)\n",
    "y_test.reset_index(drop=True, inplace=True)"
   ]
  },
  {
   "cell_type": "code",
   "execution_count": 27,
   "metadata": {},
   "outputs": [
    {
     "data": {
      "image/png": "[encoded data removed]",
      "text/plain": [
       "<Figure size 1200x600 with 2 Axes>"
      ]
     },
     "metadata": {},
     "output_type": "display_data"
    }
   ],
   "source": [
    "# Check class balance in the training set\n",
    "train_class_balance = y_train.value_counts()\n",
    "\n",
    "# Check class balance in the test set\n",
    "test_class_balance = y_test.value_counts()\n",
    "\n",
    "# Plot the class balance\n",
    "fig, axes = plt.subplots(1, 2, figsize=(12, 6))\n",
    "\n",
    "train_class_balance.plot(kind='bar', ax=axes[0], title='Training Set Class Balance')\n",
    "test_class_balance.plot(kind='bar', ax=axes[1], title='Test Set Class Balance')\n",
    "\n",
    "plt.tight_layout()\n",
    "plt.show()"
   ]
  },
  {
   "cell_type": "code",
   "execution_count": 28,
   "metadata": {},
   "outputs": [],
   "source": [
    "# Initialize the StandardScaler\n",
    "scaler = StandardScaler()\n",
    "\n",
    "# Fit the scaler on the training data and transform the training data\n",
    "X_train_scaled = scaler.fit_transform(X_train)\n",
    "\n",
    "# Use the same scaler to transform the test data\n",
    "X_test_scaled = scaler.transform(X_test)\n",
    "\n",
    "# Convert the scaled data back to DataFrame for better readability\n",
    "X_train_scaled = pd.DataFrame(X_train_scaled, columns=X_train.columns)\n",
    "X_test_scaled = pd.DataFrame(X_test_scaled, columns=X_test.columns)"
   ]
  },
  {
   "cell_type": "code",
   "execution_count": 29,
   "metadata": {},
   "outputs": [
    {
     "name": "stdout",
     "output_type": "stream",
     "text": [
      "Training Accuracy: 0.9574\n"
     ]
    }
   ],
   "source": [
    "# Initialize the Logistic Regression model\n",
    "logistic_model = LogisticRegression(max_iter=1000, random_state=42)\n",
    "\n",
    "# Train the model using the scaled training data\n",
    "logistic_model.fit(X_train_scaled, y_train)\n",
    "\n",
    "# Print the training accuracy\n",
    "train_accuracy = logistic_model.score(X_train_scaled, y_train)\n",
    "print(f\"Training Accuracy: {train_accuracy:.4f}\")"
   ]
  },
  {
   "cell_type": "code",
   "execution_count": 30,
   "metadata": {},
   "outputs": [
    {
     "name": "stdout",
     "output_type": "stream",
     "text": [
      "Confusion Matrix:\n",
      "[[78  7  0  0  0  1  0  0]\n",
      " [ 3 12  0  0  0  0  0  0]\n",
      " [ 0  0 14  0  0  0  0  0]\n",
      " [ 2  0  0 11  0  0  3  0]\n",
      " [ 0  0  0  0 16  1  1  0]\n",
      " [ 0  0  1  0  2 14  0  1]\n",
      " [ 0  0  0  3  0  0 10  0]\n",
      " [ 0  0  0  0  0  0  0  0]]\n",
      "Accuracy: 0.8611\n",
      "F1 Score: 0.8649\n"
     ]
    }
   ],
   "source": [
    "from sklearn.metrics import f1_score\n",
    "\n",
    "# Predict the labels for the test set\n",
    "y_pred = logistic_model.predict(X_test_scaled)\n",
    "\n",
    "# Generate the confusion matrix\n",
    "conf_matrix = confusion_matrix(y_test, y_pred)\n",
    "\n",
    "# Print the confusion matrix\n",
    "print(\"Confusion Matrix:\")\n",
    "print(conf_matrix)\n",
    "\n",
    "# Calculate and print the accuracy\n",
    "accuracy = accuracy_score(y_test, y_pred)\n",
    "print(f\"Accuracy: {accuracy:.4f}\")\n",
    "\n",
    "# Calculate and print the F1 score\n",
    "f1 = f1_score(y_test, y_pred, average='weighted')\n",
    "print(f\"F1 Score: {f1:.4f}\")"
   ]
  },
  {
   "cell_type": "code",
   "execution_count": 31,
   "metadata": {},
   "outputs": [
    {
     "name": "stdout",
     "output_type": "stream",
     "text": [
      "Training Accuracy (MLP): 0.9876\n",
      "Confusion Matrix (MLP):\n",
      "[[82  3  0  0  0  1  0]\n",
      " [ 1 13  0  1  0  0  0]\n",
      " [ 0  0 14  0  0  0  0]\n",
      " [ 0  0  0 15  0  0  1]\n",
      " [ 0  0  0  0 18  0  0]\n",
      " [ 0  0  0  1  2 15  0]\n",
      " [ 0  0  0  3  0  0 10]]\n",
      "Accuracy (MLP): 0.9278\n",
      "F1 Score (MLP): 0.9285\n"
     ]
    }
   ],
   "source": [
    "from sklearn.neural_network import MLPClassifier\n",
    "\n",
    "# Initialize the MLP model\n",
    "mlp_model = MLPClassifier(hidden_layer_sizes=(200, 200), max_iter=1000, random_state=42)\n",
    "\n",
    "# Train the model using the scaled training data\n",
    "mlp_model.fit(X_train_scaled, y_train)\n",
    "\n",
    "# Print the training accuracy\n",
    "train_accuracy_mlp = mlp_model.score(X_train_scaled, y_train)\n",
    "print(f\"Training Accuracy (MLP): {train_accuracy_mlp:.4f}\")\n",
    "\n",
    "# Predict the labels for the test set\n",
    "y_pred_mlp = mlp_model.predict(X_test_scaled)\n",
    "\n",
    "# Generate the confusion matrix\n",
    "conf_matrix_mlp = confusion_matrix(y_test, y_pred_mlp)\n",
    "\n",
    "# Print the confusion matrix\n",
    "print(\"Confusion Matrix (MLP):\")\n",
    "print(conf_matrix_mlp)\n",
    "\n",
    "# Calculate and print the accuracy\n",
    "accuracy_mlp = accuracy_score(y_test, y_pred_mlp)\n",
    "print(f\"Accuracy (MLP): {accuracy_mlp:.4f}\")\n",
    "\n",
    "# Calculate and print the F1 score\n",
    "f1_mlp = f1_score(y_test, y_pred_mlp, average='weighted')\n",
    "print(f\"F1 Score (MLP): {f1_mlp:.4f}\")"
   ]
  },
  {
   "cell_type": "code",
   "execution_count": 45,
   "metadata": {
    "vscode": {
     "languageId": "ruby"
    }
   },
   "outputs": [
    {
     "name": "stdout",
     "output_type": "stream",
     "text": [
      "Training Accuracy (MLP): 1.0000\n",
      "Confusion Matrix (MLP):\n",
      "[[78  6  0  0  0  2  0]\n",
      " [ 0 13  0  2  0  0  0]\n",
      " [ 0  0 14  0  0  0  0]\n",
      " [ 0  0  0 15  0  0  1]\n",
      " [ 0  0  0  0 18  0  0]\n",
      " [ 0  0  1  0  2 15  0]\n",
      " [ 0  0  0  3  0  0 10]]\n",
      "Accuracy (MLP): 0.9056\n",
      "F1 Score (MLP): 0.9080\n"
     ]
    }
   ],
   "source": [
    "# Count the number of data points in class 1\n",
    "class_1_count = y_train.value_counts()[1]\n",
    "\n",
    "# Subsample class 0 to have the same number of data points as class 1\n",
    "class_0_indices = y_train[y_train == 0].index\n",
    "subsampled_class_0_indices = np.random.choice(class_0_indices, class_1_count, replace=False)\n",
    "\n",
    "# Get the indices of all other classes except class 7\n",
    "other_class_indices = y_train[~y_train.isin([0, 7])].index\n",
    "\n",
    "# Combine the subsampled class 0 indices with the other class indices\n",
    "new_indices = np.concatenate([subsampled_class_0_indices, other_class_indices])\n",
    "\n",
    "# Create the new training set\n",
    "X_train_new = X_train_scaled.loc[new_indices]\n",
    "y_train_new = y_train.loc[new_indices]\n",
    "\n",
    "# Remove class 7 from the test set\n",
    "test_indices = y_test[~y_test.isin([7])].index\n",
    "X_test_new = X_test_scaled.loc[test_indices]\n",
    "y_test_new = y_test.loc[test_indices]\n",
    "\n",
    "# Initialize the MLP model\n",
    "mlp_model_new = MLPClassifier(hidden_layer_sizes=(200, 200), max_iter=1000, random_state=42)\n",
    "\n",
    "# Train the model using the new training data\n",
    "mlp_model_new.fit(X_train_new, y_train_new)\n",
    "\n",
    "# Print the training accuracy\n",
    "train_accuracy_mlp_new = mlp_model_new.score(X_train_new, y_train_new)\n",
    "print(f\"Training Accuracy (MLP): {train_accuracy_mlp_new:.4f}\")\n",
    "\n",
    "# Predict the labels for the new test set\n",
    "y_pred_mlp_new = mlp_model_new.predict(X_test_new)\n",
    "\n",
    "# Generate the confusion matrix\n",
    "conf_matrix_mlp_new = confusion_matrix(y_test_new, y_pred_mlp_new)\n",
    "\n",
    "# Print the confusion matrix\n",
    "print(\"Confusion Matrix (MLP):\")\n",
    "print(conf_matrix_mlp_new)\n",
    "\n",
    "# Calculate and print the accuracy\n",
    "accuracy_mlp_new = accuracy_score(y_test_new, y_pred_mlp_new)\n",
    "print(f\"Accuracy (MLP): {accuracy_mlp_new:.4f}\")\n",
    "\n",
    "# Calculate and print the F1 score\n",
    "f1_mlp_new = f1_score(y_test_new, y_pred_mlp_new, average='weighted')\n",
    "print(f\"F1 Score (MLP): {f1_mlp_new:.4f}\")"
   ]
  }
 ],
 "metadata": {
  "kernelspec": {
   "display_name": "base",
   "language": "python",
   "name": "python3"
  },
  "language_info": {
   "codemirror_mode": {
    "name": "ipython",
    "version": 3
   },
   "file_extension": ".py",
   "mimetype": "text/x-python",
   "name": "python",
   "nbconvert_exporter": "python",
   "pygments_lexer": "ipython3",
   "version": "3.9.13"
  }
 },
 "nbformat": 4,
 "nbformat_minor": 2
}
